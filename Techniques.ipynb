{
  "nbformat": 4,
  "nbformat_minor": 0,
  "metadata": {
    "colab": {
      "provenance": []
    },
    "kernelspec": {
      "name": "python3",
      "display_name": "Python 3"
    },
    "language_info": {
      "name": "python"
    }
  },
  "cells": [
    {
      "cell_type": "code",
      "execution_count": 7,
      "metadata": {
        "id": "WSEUMp_a5CYk"
      },
      "outputs": [],
      "source": [
        "!pip install langchain_openai --quiet\n",
        "!pip install PyMuPDF --quiet"
      ]
    },
    {
      "cell_type": "code",
      "source": [
        "from google.colab import userdata\n",
        "import os\n",
        "github_token = userdata.get('GITHUB_TOKEN')\n",
        "os.environ['GITHUB_TOKEN'] = github_token"
      ],
      "metadata": {
        "id": "vGr1APE45TIs"
      },
      "execution_count": 8,
      "outputs": []
    },
    {
      "cell_type": "code",
      "source": [
        "from langchain_openai import ChatOpenAI\n",
        "import pandas as pd\n",
        "import fitz\n",
        "import os\n",
        "\n",
        "from langchain.docstore.document import Document\n",
        "from langchain_openai import ChatOpenAI\n",
        "from langchain.chains.summarize import load_summarize_chain"
      ],
      "metadata": {
        "id": "-RHiurey5V9b"
      },
      "execution_count": 20,
      "outputs": []
    },
    {
      "cell_type": "code",
      "source": [
        "endpoint = \"https://models.github.ai/inference\"\n",
        "model_name = \"openai/gpt-4o-mini\""
      ],
      "metadata": {
        "id": "vwO9BBVo5iKp"
      },
      "execution_count": 13,
      "outputs": []
    },
    {
      "cell_type": "code",
      "source": [
        "def extract_text_from_pdf(pdf_path):\n",
        "    \"\"\"Extract text from PDF using PyMuPDF.\"\"\"\n",
        "    doc = fitz.open(pdf_path)\n",
        "    text = \"\".join([page.get_text() for page in doc])\n",
        "    return text"
      ],
      "metadata": {
        "id": "sw2oiZR4545j"
      },
      "execution_count": 14,
      "outputs": []
    },
    {
      "cell_type": "code",
      "source": [
        "resume1_pdf = '/content/ModifiedResume.pdf'\n",
        "resume2_pdf = '/content/ModifiedResume2.pdf'"
      ],
      "metadata": {
        "id": "DATwyOwSEOn7"
      },
      "execution_count": 15,
      "outputs": []
    },
    {
      "cell_type": "code",
      "source": [
        "resume1_txt = extract_text_from_pdf(resume1_pdf)\n",
        "resume1_txt"
      ],
      "metadata": {
        "colab": {
          "base_uri": "https://localhost:8080/",
          "height": 1000
        },
        "collapsed": true,
        "id": "PQ_nHkgmE1BB",
        "outputId": "18daaf60-ac34-481e-c67c-34703ed89e50"
      },
      "execution_count": 16,
      "outputs": [
        {
          "output_type": "execute_result",
          "data": {
            "text/plain": [
              "'CHETAN\\nAddress: Bangalore, \\nMobile No: +91-1234567809\\nEmail: .cc@gmail.com \\n                                                                                    PROFESSIONAL SUMMARY                                                                                         \\n•\\nSoftware Engineering professional with nearly 5.0 years of experience in Java Full Stack Technology, mainly \\ninvolved inAnalysis and Development of enterprise grade application and Java based AI and ML project. \\n•\\nCurrently associated with Cardinal Health International India, as Full Stack Developer (from Oct 2021 \\nto May 2022), with domain knowledge of Java, J2EE, Spring boot Framework, Node.js and angular 10. \\n•\\nHands-on experience in Spring boot, Spring Data JPA, Hibernate, JUnit, Bootstrap and Angular library. \\n•\\nAdept in end-to-end development of application software from requirement analysis to system study, \\ndesigning, coding, testing, de-bugging, documentation & implementation. \\n•\\nSturdy knowledge of developing an enterprise application using Scrum and Agile Methodologies. \\n•\\nResponsible for presenting project status & timelines to project manager. \\n•\\nEffectively handle multiple and complex work assignments, while consistently delivering high quality work. \\n                                                                                            TECHNICAL SKILLS                                                                                             \\nPrimary Skills                                : Java(8 & 11) and Python Technologies. \\nOperating Systems\\n: Windows and Linux. \\nFrameworks \\n     : Core Spring, Spring boot, Microservices Architecture, Spring Data JPA,  \\n     JUnit, Hibernate, SQL, GraphQL, Angular(v8, v10 & v14), TypeScript, React.js,  \\n     Node.js, Expres.js, MongoDB, HTML, CSS and Bootstrap.   \\n     Multithreading, Design Pattern, Data Structure and Algorithms \\nDevelopment Tools \\n: Eclipse, Visual Studio Code and Anaconda. \\nDatabases \\n: MySQL, DynamoDB, MongoDB and Oracle. \\nTools \\n: Change Management tool, IBM Watson, Google’s Dialog Flow, Smooch.io   \\nforWhatsApp, Facebook & Twitter integration. \\nClient / Server Technologies \\n: Apache Tomcat Server. \\nCloud Technologies \\n:(AWS). Docker. Kubernates, Jenkins, SonarQube, Bamboo, Putty, WinSCP, Git, \\nAWS, Lex,  \\nLambda functions, DynamoDB, EC2, IAM, CloudWatch, S3 bucket etc. \\nAPI test tools \\n: Postman, SoapUI. \\n \\n \\n \\n                                                                               PROFESSIONAL EXPERIENCE                                                                                            \\n \\nSl. \\nNo. \\nCompany \\nName \\nDesignation \\nDuration \\nYear of \\nExperience \\n1 \\nCardinal Health International India Pvt Ltd \\nFull Stack Developer \\n08 Oct 2021 to \\n05 May 2022 \\n1.0 year \\n2 \\nLegato Healthcare Technologies LLP  \\nFull Stack Developer \\nNov 2020 to \\nOct 2021 \\n1.0 year \\n3 \\nConcentrix Daksh Services Pvt Ltd \\nJr. Software Engineer \\n18 Dec 2018 to  \\nNov 2020 \\n2.0 year \\n4 \\nChipmonk Technologies Pvt Ltd \\nJr. Software Engineer \\nMarch 2018 to \\nAug 2018 \\n6 month \\n \\n \\n                                                                               PROFESSIONAL EXPERIENCE DETAILS                                                                               \\n \\nProject – #1 \\n \\n       Company Name \\n: Cardinal Health International India Pvt Ltd.  \\nProject Title \\n: mscripts \\nDesignation \\n: Full Stack Developer \\nDuration \\n: 1.0 year (Oct 2021 – May 2022) \\nPlatform \\n: Healthcare Domain \\nTechnologies Used \\n: Java, Multithreading, Spring, Spring Boot, Spring Data JPA, Micro Services, ELK, \\nKafka, GraphQL, PLSQL, Kubernates, Docker, TypeScript, Bootstrap, Node.js, \\nExpress.js, React.js, Redux, MongoDB, Angular (v10 & v14) and AWS. \\nResponsibilities \\n \\n• \\nInvolved in developing mscripts application for Cardinal Health International India Pvt Ltd. \\n• \\nWorked on Multithreaded services like Pickup Reminder, Delivery reminder and Prescription \\nreminder tasks. \\n• \\nWorked on Job Scheduler service(CRON) which schedules the job and Job Handler services \\nwhich handles the scheduled jobs.  \\n• \\nWorked on Notification service for sending SMS and email notification to end users. \\n• \\nWorked on UI side for developing dashboard using Node.js and Angular and many other \\nfeatures. \\n• \\nWrote test cases for both client and server-side code. For client side using Karma, Jasmin and \\nfor Server side using JUNIT & Power Mockito.  \\n \\nProject – #2 \\n \\n \\n \\n \\n       Company Name \\n: Legato Health Technologies LLP \\nProject Title \\n: Employer Portal \\nDesignation \\n: Full Stack Developer \\nDuration \\n: 1.0 year (Nov,2020 – 05th Oct 2021) \\nPlatform \\n: Healthcare Domain \\nTechnologies Used \\n: Java, Spring Boot, Spring Data JPA, Micro Services, MyBatis, Apache Camel, ELK, \\nKafka, PLSQL, GraphQL, Data integration, Data Security, Amazon Connect, AWS \\nLambda, HTML, CSS, TypeScript, Bootstrap, Node.js, Angular 10, React.js, Redux, \\nDocker, Kubernates and AWS. \\n     Tools \\n: Bitbucket, Bamboo, SonarQube, STS, Visual Studio Code, IntelliJ. \\nResponsibilities                \\n• \\nInvolved in developing Employer portal application for Legato Health Technologies. \\n• \\nWorked on XML file upload and download using RESTful web services. \\n• \\nWorked on entire backed mapping for XML, PDF and DOC to Java code using spring boot. \\n• \\nWorked on entire frontend for mapping and XML, PDF, and DOC using Angular. \\n• \\nDeveloped new dashboard for adding, editing, updating and downloading XML, PDF and DOC files \\nusing Angular code. \\n• \\nWorked on many other features using Node.js, MongoDB and added many RESTful web services. \\n• \\nWrote test cases for both client and server-side code. For client side using Karma, Jasmin and for \\nServer side using JUNIT & Power Mockito. \\n \\n    Project – #3 \\n \\n       Company Name \\n: Concentrix Daksh Services India Pvt Ltd. \\nProject Title \\n: COGNITIVE CUSTOMER ENGAGEMENT \\nDesignation \\n : Jr. Software Engineer \\nDuration \\n : 2.0 years (Dec,2018 – Nov,2020) \\nPlatform \\n : AI and ML. (Email Bot, Voice Bot and Chatbot) \\nTechnologies Used \\n: Java, Python, NLP, NLTK, Neural Network, Deep Learning, AI/ML libraries Spring Rest, \\nSpring Boot, Spring Data JPA, Micro Services, PLSQL, Hibernate, Data integration, Data \\nSecurity, HTML, TypeScript, Bootstrap, Node.js and Angular 8. \\nTools \\n : Bitbucket, Jenkins, IBM Watson, Docker, AWS Lex, Google Dialog Flow (GDF), \\nSmooch.io, Ngrok, WhatsApp API. \\nDescription \\n : Cognitive Customer Engagement (CCE) is Concentrix way to express the art of \\ntransformation possibilities in customers front end and backend process environments \\nby converging best in class artificial intelligence, machine learning, and conversational \\nservices with a robust automation platform. \\n                  Responsibilities \\n• \\nHaving hands of Experience with Java, Spring, Spring boot, Spring Data JPA, Hibernate, Mockito \\nJUnit, Bootstrap and Angular 8. \\n \\n• \\nWell versed with Core Java, Collection API and Multithreading concepts. \\n \\n \\n \\n \\n• \\nI have work experience in Angular 8, Node JS, Python, ML libraries, Bootstrap and AWS. \\n \\n• \\nResponsible for writing business logic, unit testing using Java, Angular, Node.js and Python. \\n \\n• \\nWorked on Smooch.io for integration of CCE application with WhatsApp to ease the user to \\ncommunicate with the (ALBA Bot) CCE bot. Dedicated Microservice deployed on Dev environment \\ndirectly with WhatsApp API integrated which enables two-way communication with end-to-end \\nDevelopment. \\n• \\nWorked on CCEConversationService module which provides services similar to IBM Watson, allows \\nuser to create the Workspace, Intents, Entities, Templates and Dialogs. Created RESTful web \\nservices to make these functionalities work as mentioned. \\n \\n• \\nWorked on AWS Lex to create a POC of both Chatbot and Voicebot for client using Lambda \\nfunctions, Amazon Lex, DynamoDB, S3 bucket, IAM, Amazon Connect, CloudWatch and \\nEC2. \\n• \\nWorked on UI, to create the end-to-end UI screens for CCEConversationService module \\nusing Angular 8, Bootstrap, CSS, HTML and Java script. Created workspace, Entities, Intents, \\nTemplate and Dialogs etc. that can be created, updated and deleted via UI, this activity will \\nupdate MySQL Database. \\n \\n• \\nexperience in CI/CD environment used Jenkins/Bamboo, bitbucket, Git. \\n \\n• \\nWorked as a Full Stack developer, by meeting all the business requirements and timelines \\nprovided by the business. \\n \\n   Project: #4 \\nCompany Name          : Chipmonk Technologies Private Limited. \\nProject title \\n   : PHILIPS STREET LIGHT (IoT Domain) \\nDesignation \\n   : Software Engineer Trainee. \\nDuration   \\n   : 5 Month’s (March 2018 to Aug 2018) \\nClient               \\n   : Philips India & Cisco Systems, Inc. \\nLanguages        \\n   : Java, J2EE, Servlets, SQL, Spring and Hibernate.  \\nDescription    \\n   : Firstly, developed a POC and then translated all the Business Requirement into the Architecture. \\nThis application enables the Client to harness IoT technology and control the individual Lighting \\n \\nnodes with IoT capability. The goal of this project was to reduce cost, Electricity and to \\nreduce manual intervention. \\nResponsibilities \\n• \\nI have hands on experience in Java, Spring, Hibernate, Servlet, JSP and SQL. \\n• \\nWorked on creating SQL tables, designing and structuring of data. \\n• \\nCreated RESTful endpoints to get, save, update and delete the street light details using Spring \\nand Hibernate framework. \\n• \\nMet all the expectations of business, coordinated with team and on self-improvement. \\n                                                                                          QUALIFICATION DETAIL                                                                                                  \\nSl. \\nNo. \\nBranch \\nYear of \\nPassing \\nName of the \\nCollege / \\nInstitute \\nName of \\nthe \\nUniversity \\n1 \\nB.E. \\nElectronics & \\nCommunication \\nEngineering \\n2017 \\nJain College of \\nEngineering, \\nBelagavi \\nVTU \\n2 \\nIntermediate \\nScience \\n2010-13 \\nSB ARTS and \\nScience College, \\nVijayapura \\nState Board \\n3 \\nMatriculation \\nScience \\n2009-10 \\nGovt High School, \\nK. Salawadagi. \\nState Board \\n                                                                                                    SOFT SKILLS                                                                                                 \\n•\\nLeadership \\n•\\nCritical thinking and Problem solving. \\n•\\nTeamwork and Collaboration. \\n•\\nProfessionalism and strong work ethic. \\n•\\nOral and written communication skills. \\n                                                                                           ACKNOWLEDGEMENT                                                                                        \\n I hereby declare that the above-mentioned information is correct to my knowledge, and I bear the responsibility for the \\ncorrectness of the above-mentioned particulars. \\nPlace: Bangalore \\nName: Chetan\\n'"
            ],
            "application/vnd.google.colaboratory.intrinsic+json": {
              "type": "string"
            }
          },
          "metadata": {},
          "execution_count": 16
        }
      ]
    },
    {
      "cell_type": "code",
      "source": [
        "resume2_txt = extract_text_from_pdf(resume2_pdf)\n",
        "resume2_txt"
      ],
      "metadata": {
        "collapsed": true,
        "colab": {
          "base_uri": "https://localhost:8080/",
          "height": 105
        },
        "id": "QW1d2A5QGCfp",
        "outputId": "9cde7c62-19fb-42b6-edee-44b4f3c82f84"
      },
      "execution_count": 24,
      "outputs": [
        {
          "output_type": "execute_result",
          "data": {
            "text/plain": [
              "'NITISH \\nSENIOR SOFTWARE ENGINEER \\nPreferred Locations: Bangalore, Pune, and \\nHyderabad \\n \\n+91 1234557809 \\nabc@gmail.com \\nOBJECTIVE \\nDedicated \\nand \\nresult-oriented \\nprofessional with experience in \\nleading and contributing to the \\ndevelopment \\nof \\nsoftware \\napplications, \\ndesigning \\nscalable \\ndatabase structures and crafting \\nresponsive \\nuser \\nexperiences. \\nPursuing a challenging role to \\nleverage \\nexpertise \\nin \\nBack-end \\ndevelopment to drive efficiency, \\nquality, \\nand \\ninnovation \\nin \\na \\ncollaborative team environment. \\nEDUCATION \\n2019 \\nB.Tech. \\nin \\nElectronics \\nand \\nInstrumentation Engineering from \\nNational Institute of Technology, \\nSilchar, Assam with 7.3 CGPA \\nCORE COMPETENCIES \\n• Full-Stack Development \\n• Software Development Lifecycle \\n• Software \\nDevelopment \\nFramework (SDF) \\n• Coaching, Mentoring \\n• Requirement Gathering \\n• Root Cause Analysis \\nPROFILE SUMMARY \\n• \\nPossess nearly 5 years of experience in Full-stack Development, specializing in Back-end \\nsecurity policies and regulatory compliance. \\n• \\nCurrently working as a Senior Software Engineer at HSBC, focusing on enhancing the efficiency \\nof digital banking applications. \\n• \\nProficient in ReactJS, Java, Python, MongoDB, Android, GCP, and more. \\n• \\nSuccessfully automated server health checks, reduced latency, and saved man-hours through \\nREST APIs and infrastructure optimization. \\n• \\nSkilled in incident management, on-call support, and fraud detection, ensuring business \\ncontinuity and customer satisfaction. \\n• \\nDisplayed leadership in coaching and mentoring new team members, fostering a collaborative \\nwork environment. \\n• \\nRecent achievements include migrating users to new platforms, reducing costs, and upgrading \\ninfrastructure for improved performance. \\n• \\nSkilled in system design, REST API, and cybersecurity protocols. \\n• \\nProficient in Agile methodologies, software architecture, and user interface design. \\n• \\nUnderstanding of Software Development Lifecycle (SDLC) right from requirement analysis, \\ndocumentation (functional specifications, technical design), coding and testing (preparation of \\ntest cases along with implementation) to maintenance of proposed applications. \\n• \\nLed the Development Team in successfully delivering critical projects within tight deadlines, \\nensuring client satisfaction. \\n \\nTECHNICAL SKILLS \\n• Java \\n• Spring \\n• REST API \\n• JavaScript \\n• GCP (Google Cloud Platform) \\n• Transmit Security \\n• Python \\n• MongoDB \\n• Postman \\n• ReactJS \\n• SQL \\n• System Design \\n• C++ \\n• Android (Java) \\n• IAM (Identity and Access \\nManagement) \\n• Solution Optimization \\n• Infrastructure Optimization \\n• Incident Resolution \\n• Scrum/Agile Methodologies \\n• Performance Optimization \\n• Data Structures \\nand Algorithms \\n \\nACHIEVEMENTS \\n• High-Level Design (HLD) \\n• Low-Level Design (LLD) \\n• Fraud Analytics \\nCERTIFICATION \\n• Java Certification by Oracle \\n• NiSM \\ncertification \\nin \\nEquity \\nDerivatives) \\nSOFT SKILLS \\n• Collaborator \\n• Communicator \\n• Critical Thinker \\n• Numerical Competence \\n• Problem Solver \\n• Time Management \\n• Team-oriented \\n• \\nAwarded with Star Performer Award in 2024. \\n• \\nReceived “Circle of Excellence” in 2022 and 2023. \\n• \\nGold Award, Java Full Stack Development Training, 2019. \\n• \\nRecognized as top 3% of HSBC employees, nominated for the in-house leadership program \\nand Coaching circles. \\n• \\nConsistently rated among the top 5% of the team in annual reviews. \\nPERSONAL DETAILS \\nAddress \\n:  Pune, Maharashtra \\nDate of Birth \\n:  April 1995 \\nLanguages Known \\n:  English, Hindi, Oriya, and Bengali \\nWORK EXPERIENCE \\nJul’2019 - Present | Senior Software Engineer | HSBC, Pune, Maharashtra \\nGrowth Path: \\nSenior Software Engineer (2023-Present) \\nSoftware Engineer (2021-2023) \\nTrainee Software Engineer (2019-2021) \\nClients: CorpCards UK & Digital Business Banking UK \\nKey Result Areas: \\n• Contributing to GCP Infrastructure enhancement using Kubernetes, VMs, service health check automation, and customer pattern \\nidentification within corporate banking. \\n• Implementing effective incident management procedures to quickly assess, prioritize, and resolve design challenges, leveraging strong \\nproblem-solving skills and creative thinking to find innovative solutions. \\n• Spearheading solutions for 50+ critical customer incidents, collaborating with business stakeholders for the Corporate Cards app, enhancing \\nuser retention. \\n• Leading all phases of the application development lifecycle with a focus on efficiency and quality. \\n• Implementing rigorous unit testing protocols, conducting comprehensive code reviews, and executing seamless deployments to guarantee the \\nreliability and stability of applications. \\n• Managing diverse aspects of application development, encompassing coding, issue resolution, and the creation of business logic and scripts. \\n• Collaborating closely with stakeholders to elicit and analyze requirements, producing detailed functional specifications and low-level design \\ndocuments. \\n• Thoroughly documenting software solutions through a variety of mediums, including flowcharts, diagrams, code comments, and clear, concise \\ndocumentation. \\n• Conducting rigorous testing procedures on both individual and team-developed modules, ensuring adherence to quality standards and \\nspecifications. \\n• Developing and executing comprehensive test cases and frameworks, ensuring thorough validation of unit, basic, and functional components. \\nHighlights: \\n• Spearheaded migration of 40+ static API endpoints to dynamic config file, eliminating human errors by 100% and benefiting 20k+ customers. \\n• Designed, deployed, and managed 40+ back-end security policies using Transmit, ensuring regulatory compliance for critical banking journeys \\nand version control. \\n• Integrated Fraud Analytics into 15+ security policies via cryptographic JWTs, enhancing security measures. \\n• Improved efficiency of DBB UK app by 97.5% for 200k+ customers. \\n• Developed and deployed 5 security journeys for Transmit tool, leading 8 deployments and facilitating design discussions. \\n• Resolved 10+ bugs, addressing CORS issues for DBB UK Web app using Java and impacting 10k+ customers. \\n• Led discussions and spearheaded 2 major releases for Fraud detection and monitoring, managing a cross-functional team of 10+ members. \\n• Orchestrated migration of 50k+ customers to HSBC Kinetic, contributing to its recognition as the \"Best App Based Business Account.\" \\n• Automated server health checks using UNIX script, resulting in an 80% reduction in man-hours. \\n• Reduced customer support turnaround time by 70% for HSBC CorpCards with Java-based REST APIs. \\n• Implemented Java-based automation for self-signed certificate generation, saving 90% man-hours. \\n• Reengineered legacy code into 10+ REST APIs, reducing latency by 80%. \\n• Managed upgrades from Transmit v4 to v8, including database migration and host management changes. \\n• Led migration of 4k+ users from MongoDB to PostgreSQL, resulting in a 30% cost reduction. \\n• Successfully managed 10 on-call emergency incidents in 2023, ensuring business continuity through analysis and debugging. \\nINTERNSHIP \\nJul’2017-Aug’2017 | Android Development Intern | Infokriti, New Delhi \\nKey Result Areas: \\n• Created a matchmaking app using MVC design pattern in Android Studio (Java), integrating Firebase, Retrofit 2, Facebook SDK & Graph API. \\n• Integrated chat functionality via MQTT protocol. \\nHighlights: \\n• Implemented real-time notifications with Google Cloud Messaging, boosting user engagement by 15%. \\n• Optimized memory usage and reduced battery drainage by addressing 20+ bugs identified through Google Analytics reports. \\n'"
            ],
            "application/vnd.google.colaboratory.intrinsic+json": {
              "type": "string"
            }
          },
          "metadata": {},
          "execution_count": 24
        }
      ]
    },
    {
      "cell_type": "code",
      "source": [
        "docs = [Document(page_content=resume1_txt)]"
      ],
      "metadata": {
        "id": "yTkJkDTSE_AC"
      },
      "execution_count": 21,
      "outputs": []
    },
    {
      "cell_type": "code",
      "source": [
        "llm_model = ChatOpenAI(\n",
        "    base_url = endpoint,\n",
        "    api_key= github_token,\n",
        "    model=model_name\n",
        ")"
      ],
      "metadata": {
        "id": "fYBk_KLPFkGx"
      },
      "execution_count": 22,
      "outputs": []
    },
    {
      "cell_type": "code",
      "source": [
        "llm_model.get_num_tokens(resume1_txt) #5 pages document but token is very less"
      ],
      "metadata": {
        "colab": {
          "base_uri": "https://localhost:8080/"
        },
        "id": "sfhfJnPpF810",
        "outputId": "f035d944-1041-4ac4-e085-9e4b10fa5f2a"
      },
      "execution_count": 23,
      "outputs": [
        {
          "output_type": "execute_result",
          "data": {
            "text/plain": [
              "2353"
            ]
          },
          "metadata": {},
          "execution_count": 23
        }
      ]
    },
    {
      "cell_type": "code",
      "source": [
        "llm_model.get_num_tokens(resume2_txt) #2 pages document"
      ],
      "metadata": {
        "colab": {
          "base_uri": "https://localhost:8080/"
        },
        "id": "FN7duqp8GAeN",
        "outputId": "9b724582-1825-4f5a-aa9b-351f1efa6b8c"
      },
      "execution_count": 25,
      "outputs": [
        {
          "output_type": "execute_result",
          "data": {
            "text/plain": [
              "1637"
            ]
          },
          "metadata": {},
          "execution_count": 25
        }
      ]
    },
    {
      "cell_type": "markdown",
      "source": [
        "![image.png](data:image/png;base64,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)"
      ],
      "metadata": {
        "id": "rQrDWZweJkQ4"
      }
    },
    {
      "cell_type": "markdown",
      "source": [
        "## Using StuffDocumentChain"
      ],
      "metadata": {
        "id": "dtlrBewXGVRJ"
      }
    },
    {
      "cell_type": "code",
      "source": [
        "from langchain import PromptTemplate"
      ],
      "metadata": {
        "id": "lVTylwPJH4-h"
      },
      "execution_count": 26,
      "outputs": []
    },
    {
      "cell_type": "code",
      "source": [
        "template = \"\"\"\n",
        "        Generate a professional summary of the entire resume with these important points:\\n\n",
        "        Start the precise summary with an introduction and provide the summary in number points with following details:\\n\n",
        "        Name: \\n\n",
        "        Most Recent Job Information - Organization, Job Title, Start Date, End Date: \\n\n",
        "        Job Responsibilities: \\n\n",
        "        Second Most Recent Job: - Organization, Job Title, Start Date, End Date: \\n\n",
        "        Job Responsibilities: \\n\n",
        "        Education: \\n\n",
        "        Hard Skills: \\n\n",
        "        Soft Skills: \\n\n",
        "        Tools: \\n\n",
        "        Projects:\\n\n",
        "        Other important information\\n\n",
        "        Resume: '{resume}'\n",
        "    \"\"\""
      ],
      "metadata": {
        "id": "1hExWDYnGjQJ"
      },
      "execution_count": 28,
      "outputs": []
    },
    {
      "cell_type": "code",
      "source": [
        "prompt = PromptTemplate(\n",
        "    input_variables=['resume'],\n",
        "    template=template\n",
        ")"
      ],
      "metadata": {
        "id": "up03Te4OGHJ3"
      },
      "execution_count": 48,
      "outputs": []
    },
    {
      "cell_type": "code",
      "source": [
        "chain = load_summarize_chain(\n",
        "    llm_model,\n",
        "    chain_type='stuff',\n",
        "    prompt=prompt,\n",
        "    verbose=False,\n",
        "    document_variable_name='resume'\n",
        ")\n",
        "output_summary = chain.invoke(docs)"
      ],
      "metadata": {
        "id": "3rWGTGhAIOQB"
      },
      "execution_count": 49,
      "outputs": []
    },
    {
      "cell_type": "code",
      "source": [
        "from pprint import pprint\n",
        "pprint(output_summary.get('output_text'))"
      ],
      "metadata": {
        "colab": {
          "base_uri": "https://localhost:8080/"
        },
        "id": "PCT63hwRIeiI",
        "outputId": "cc8364d2-32e8-4f54-d248-8cfe4c5fa7e2"
      },
      "execution_count": 50,
      "outputs": [
        {
          "output_type": "stream",
          "name": "stdout",
          "text": [
            "('**Professional Summary of Chetan**\\n'\n",
            " '\\n'\n",
            " 'Chetan is a Software Engineering professional with nearly 5 years of '\n",
            " 'experience specializing in Java Full Stack Technology and projects '\n",
            " 'concerning enterprise-grade applications, AI, and ML. Below is a detailed '\n",
            " 'professional summary:\\n'\n",
            " '\\n'\n",
            " '1. **Name**: Chetan\\n'\n",
            " '\\n'\n",
            " '2. **Most Recent Job Information**: \\n'\n",
            " '   - **Organization**: Cardinal Health International India Pvt Ltd \\n'\n",
            " '   - **Job Title**: Full Stack Developer \\n'\n",
            " '   - **Start Date**: October 2021 \\n'\n",
            " '   - **End Date**: May 2022\\n'\n",
            " '\\n'\n",
            " '3. **Job Responsibilities**: \\n'\n",
            " '   - Developed the mscripts application for the healthcare domain, involving '\n",
            " 'multithreaded services and job scheduling.\\n'\n",
            " '   - Designed user interfaces using Node.js and Angular, and created '\n",
            " 'notifications and test cases for both client and server-side.\\n'\n",
            " '\\n'\n",
            " '4. **Second Most Recent Job**: \\n'\n",
            " '   - **Organization**: Legato Health Technologies LLP  \\n'\n",
            " '   - **Job Title**: Full Stack Developer \\n'\n",
            " '   - **Start Date**: November 2020 \\n'\n",
            " '   - **End Date**: October 2021\\n'\n",
            " '\\n'\n",
            " '5. **Job Responsibilities**: \\n'\n",
            " '   - Developed the Employer Portal application, handling XML file operations '\n",
            " 'and backend mapping.\\n'\n",
            " '   - Worked extensively with Angular for frontend development and RESTful '\n",
            " 'web services.\\n'\n",
            " '\\n'\n",
            " '6. **Education**: \\n'\n",
            " '   - **Bachelor of Engineering in Electronics & Communication '\n",
            " 'Engineering**  \\n'\n",
            " '     Jain College of Engineering, Belagavi (2017)\\n'\n",
            " '\\n'\n",
            " '7. **Hard Skills**: \\n'\n",
            " '   - Java (8 & 11), Python, Spring Boot, Node.js, Angular (various '\n",
            " 'versions), React.js, Microservices, SQL, MongoDB, AWS, Docker, Kubernetes.\\n'\n",
            " '\\n'\n",
            " '8. **Soft Skills**: \\n'\n",
            " '   - Leadership, critical thinking, problem-solving, teamwork, '\n",
            " 'professionalism, and strong communication skills.\\n'\n",
            " '\\n'\n",
            " '9. **Tools**: \\n'\n",
            " '   - Change Management tools, IBM Watson, Google Dialog Flow, Bitbucket, '\n",
            " 'Jenkins, SonarQube, Visual Studio Code, IntelliJ, Postman.\\n'\n",
            " '\\n'\n",
            " '10. **Projects**:\\n'\n",
            " '    - **mscripts** (Cardinal Health): Involvement in multithreaded services '\n",
            " 'and UI development.\\n'\n",
            " '    - **Employer Portal** (Legato Health Technologies): Developed dashboard '\n",
            " 'features and integrated XML and PDF functionalities.\\n'\n",
            " '    - **Cognitive Customer Engagement** (Concentrix): Engaged in AI and ML '\n",
            " 'projects, integrating voice and chatbots.\\n'\n",
            " '    - **PHILIPS STREET LIGHT** (Chipmonk Technologies): Involved in IoT '\n",
            " 'solution development including RESTful APIs.\\n'\n",
            " '\\n'\n",
            " '11. **Other Important Information**: \\n'\n",
            " '    - Education includes intermediate science and matriculation from state '\n",
            " 'boards.\\n'\n",
            " '    - Strong experience in CI/CD environments using Jenkins or Bamboo and '\n",
            " 'Git.\\n'\n",
            " '\\n'\n",
            " \"Chetan's hands-on expertise in full-stack development, combined with his \"\n",
            " 'problem-solving abilities and experience in leading complex projects, '\n",
            " 'positions him as a valuable asset in technology-driven environments.')\n"
          ]
        }
      ]
    },
    {
      "cell_type": "markdown",
      "source": [
        "## Using Map-Reduce"
      ],
      "metadata": {
        "id": "-r7k175wKqLg"
      }
    },
    {
      "cell_type": "code",
      "source": [
        "from langchain.text_splitter import RecursiveCharacterTextSplitter"
      ],
      "metadata": {
        "id": "qx1senNGKpuI"
      },
      "execution_count": 51,
      "outputs": []
    },
    {
      "cell_type": "code",
      "source": [
        "text_splitter = RecursiveCharacterTextSplitter(chunk_size=10000, chunk_overlap=20)\n",
        "chunks = text_splitter.create_documents([resume1_txt])"
      ],
      "metadata": {
        "id": "m9ALAZz3IqyB"
      },
      "execution_count": 52,
      "outputs": []
    },
    {
      "cell_type": "code",
      "source": [
        "len(chunks)"
      ],
      "metadata": {
        "colab": {
          "base_uri": "https://localhost:8080/"
        },
        "id": "eI2p8O-XK1zA",
        "outputId": "9a753359-6899-407e-b820-9570471f8d0b"
      },
      "execution_count": 53,
      "outputs": [
        {
          "output_type": "execute_result",
          "data": {
            "text/plain": [
              "2"
            ]
          },
          "metadata": {},
          "execution_count": 53
        }
      ]
    },
    {
      "cell_type": "code",
      "metadata": {
        "id": "a8f1638c"
      },
      "source": [
        "map_template = \"\"\"\n",
        "        Generate a concise summary of the following document chunk:\\n\n",
        "        Document: '{text}'\n",
        "        Summary:\n",
        "    \"\"\"\n",
        "\n",
        "combine_template = \"\"\"\n",
        "        Combine the following summaries into a single, professional summary of the entire resume with these important points:\\n\n",
        "        Start the precise summary with an introduction and provide the summary in number points with following details:\\n\n",
        "        Name: \\n\n",
        "        Most Recent Job Information - Organization, Job Title, Start Date, End Date: \\n\n",
        "        Job Responsibilities: \\n\n",
        "        Second Most Recent Job: - Organization, Job Title, Start Date, End Date: \\n\n",
        "        Job Responsibilities: \\n\n",
        "        Education: \\n\n",
        "        Hard Skills: \\n\n",
        "        Soft Skills: \\n\n",
        "        Tools: \\n\n",
        "        Projects:\\n\n",
        "        Other important information\\n\n",
        "        Summaries: '{text}'\n",
        "        Combined Summary:\n",
        "    \"\"\""
      ],
      "execution_count": 74,
      "outputs": []
    },
    {
      "cell_type": "code",
      "metadata": {
        "id": "97d69092"
      },
      "source": [
        "map_prompt = PromptTemplate(\n",
        "    input_variables=['text'],\n",
        "    template=map_template\n",
        ")\n",
        "\n",
        "combine_prompt = PromptTemplate(\n",
        "    input_variables=['text'],\n",
        "    template=combine_template\n",
        ")"
      ],
      "execution_count": 75,
      "outputs": []
    },
    {
      "cell_type": "code",
      "source": [
        "map_prompt"
      ],
      "metadata": {
        "colab": {
          "base_uri": "https://localhost:8080/"
        },
        "id": "LUApCgkIONNb",
        "outputId": "297de81b-f753-4399-ed2d-28bdc8a4e3c3"
      },
      "execution_count": 76,
      "outputs": [
        {
          "output_type": "execute_result",
          "data": {
            "text/plain": [
              "PromptTemplate(input_variables=['text'], input_types={}, partial_variables={}, template=\"\\n        Generate a concise summary of the following document chunk:\\n\\n        Document: '{text}'\\n        Summary:\\n    \")"
            ]
          },
          "metadata": {},
          "execution_count": 76
        }
      ]
    },
    {
      "cell_type": "code",
      "source": [
        "chain2 = load_summarize_chain(\n",
        "    llm_model,\n",
        "    chain_type='map_reduce',\n",
        "    map_prompt=map_prompt,\n",
        "    combine_prompt=combine_prompt,\n",
        "    verbose=False,\n",
        ")\n",
        "output_summary2 = chain2.invoke(chunks)"
      ],
      "metadata": {
        "id": "M0iRfbpfN3-w"
      },
      "execution_count": 78,
      "outputs": []
    },
    {
      "cell_type": "code",
      "source": [
        "from pprint import pprint\n",
        "pprint(output_summary2.get('output_text'))"
      ],
      "metadata": {
        "colab": {
          "base_uri": "https://localhost:8080/"
        },
        "id": "mQPTJ1spNcEA",
        "outputId": "1777c548-251c-44cb-9674-08d3b657bb94"
      },
      "execution_count": 80,
      "outputs": [
        {
          "output_type": "stream",
          "name": "stdout",
          "text": [
            "('**Professional Summary**\\n'\n",
            " '\\n'\n",
            " 'Chetan is a dedicated software engineering professional with nearly 5 years '\n",
            " 'of experience, specializing in Java Full Stack Technology, particularly in '\n",
            " 'enterprise applications and AI/ML projects.\\n'\n",
            " '\\n'\n",
            " '1. **Name:** Chetan \\n'\n",
            " '\\n'\n",
            " '2. **Most Recent Job Information:** \\n'\n",
            " '   - **Organization:** Cardinal Health International \\n'\n",
            " '   - **Job Title:** Full Stack Developer \\n'\n",
            " '   - **Start Date:** [Insert Start Date] \\n'\n",
            " '   - **End Date:** [Insert End Date]\\n'\n",
            " '\\n'\n",
            " '   **Job Responsibilities:** \\n'\n",
            " '   - Engaged in application development utilizing Agile methodologies.\\n'\n",
            " '   - Worked on enterprise application development focusing on high-quality '\n",
            " 'deliverables.\\n'\n",
            " '   - Leveraged expertise in Java, J2EE, Spring Boot, Node.js, and Angular to '\n",
            " 'handle both front-end and back-end projects.\\n'\n",
            " '\\n'\n",
            " '3. **Second Most Recent Job:** \\n'\n",
            " '   - **Organization:** Legato Healthcare Technologies \\n'\n",
            " '   - **Job Title:** Full Stack Developer \\n'\n",
            " '   - **Start Date:** [Insert Start Date] \\n'\n",
            " '   - **End Date:** [Insert End Date]\\n'\n",
            " '\\n'\n",
            " '   **Job Responsibilities:** \\n'\n",
            " '   - Developed healthcare applications and cognitive customer engagement '\n",
            " 'systems.\\n'\n",
            " '   - Gained hands-on experience in microservices and cloud services (AWS).\\n'\n",
            " '   - Collaborated on diverse IoT solutions showcasing proficiency across '\n",
            " 'multiple technologies.\\n'\n",
            " '\\n'\n",
            " '4. **Education:** \\n'\n",
            " '   - B.E. in Electronics & Communication Engineering, Jain College of '\n",
            " 'Engineering.\\n'\n",
            " '\\n'\n",
            " '5. **Hard Skills:** \\n'\n",
            " '   - Java, J2EE, Spring Boot, Node.js, Angular, microservices, databases, '\n",
            " 'AWS.\\n'\n",
            " '\\n'\n",
            " '6. **Soft Skills:** \\n'\n",
            " '   - Leadership, critical thinking, teamwork, professionalism, and effective '\n",
            " 'communication.\\n'\n",
            " '\\n'\n",
            " '7. **Tools:** \\n'\n",
            " '   - [Insert relevant tools here, if applicable.]\\n'\n",
            " '\\n'\n",
            " '8. **Projects:** \\n'\n",
            " '   - Contributed to various projects including healthcare applications, '\n",
            " 'cognitive customer engagement systems, and IoT solutions.\\n'\n",
            " '\\n'\n",
            " '9. **Other Important Information:** \\n'\n",
            " '   - Chetan has affirmed the accuracy of all listed skills and experiences, '\n",
            " 'taking responsibility for the correctness of the information as stated in a '\n",
            " 'declaration made in Bangalore, associated with Govt High School in K. '\n",
            " 'Salawadagi.\\n'\n",
            " '\\n'\n",
            " 'This summary illustrates Chetan’s commitment to software development and his '\n",
            " 'broad skill set in achieving project goals effectively.')\n"
          ]
        }
      ]
    },
    {
      "cell_type": "code",
      "source": [],
      "metadata": {
        "id": "3VzoCd4bOjjg"
      },
      "execution_count": null,
      "outputs": []
    }
  ]
}